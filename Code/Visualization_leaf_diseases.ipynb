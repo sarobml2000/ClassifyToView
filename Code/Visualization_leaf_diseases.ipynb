{
 "cells": [
  {
   "cell_type": "markdown",
   "metadata": {},
   "source": [
    "# Importing the Fifty-One library"
   ]
  },
  {
   "cell_type": "code",
   "execution_count": 2,
   "metadata": {},
   "outputs": [],
   "source": [
    "import fiftyone as fo"
   ]
  },
  {
   "cell_type": "markdown",
   "metadata": {},
   "source": [
    "# Creating and loading the dataset"
   ]
  },
  {
   "cell_type": "code",
   "execution_count": 2,
   "metadata": {},
   "outputs": [
    {
     "name": "stdout",
     "output_type": "stream",
     "text": [
      " 100% |███████████████████| 34/34 [91.8ms elapsed, 0s remaining, 370.4 samples/s]     \n"
     ]
    }
   ],
   "source": [
    "# Giving a name to the dataset.\n",
    "name = \"Dataset All\"\n",
    "\n",
    "# Pointing to the directory in which the images are stored and will be loaded into the dataset.\n",
    "dataset_dir = r\"D:\\3_Sarosij\\Ongoing\\Research&Projects\\HPC\\Code\\New Plant Diseases Dataset(Augmented)\"\n",
    "\n",
    "# If creating the dataset for the first time, then use this statement.\n",
    "#dataset = fo.Dataset.from_dir(dataset_dir, fo.types.ImageClassificationDirectoryTree, name = name)\n",
    "\n",
    "# Load the dataset in case it has been pre-loaded before.\n",
    "dataset = fo.load_dataset(name)"
   ]
  },
  {
   "cell_type": "code",
   "execution_count": 3,
   "metadata": {},
   "outputs": [],
   "source": [
    "# Giving a name to the dataset.\n",
    "name = \"Dataset All\"\n",
    "\n",
    "# Pointing to the directory in which the images are stored and will be loaded into the dataset.\n",
    "dataset_dir = r\"D:\\3_Sarosij\\Ongoing\\Research&Projects\\HPC\\Code\\New Plant Diseases Dataset(Augmented)\"\n",
    "\n",
    "# If creating the dataset for the first time, then use this statement.\n",
    "#dataset = fo.Dataset.from_dir(dataset_dir, fo.types.ImageClassificationDirectoryTree, name = name)\n",
    "\n",
    "# Load the dataset in case it has been pre-loaded before.\n",
    "dataset = fo.load_dataset(name)"
   ]
  },
  {
   "cell_type": "markdown",
   "metadata": {},
   "source": [
    "# Adding ground truth images to the dataset"
   ]
  },
  {
   "cell_type": "code",
   "execution_count": 4,
   "metadata": {},
   "outputs": [],
   "source": [
    "def add_groundtruth():\n",
    "    # Images are to be read from the train folder of the dataset.\n",
    "    path = r\"D:\\3_Sarosij\\Ongoing\\Research&Projects\\HPC\\Code\\New Plant Diseases Dataset(Augmented)\\train\"\n",
    "    class_list = []\n",
    "\n",
    "    # Now 'samples' of the dataset have to be created. Then those samples have to be added to the dataset.\n",
    "    # Each of the images are read from the directory and are added as \"ground truth\".\n",
    "    for dirs in os.listdir(path):\n",
    "        img_path = os.path.join(path, dirs)\n",
    "        print(img_path)\n",
    "        class_name = os.path.basename(img_path)\n",
    "        for image in os.listdir(img_path):\n",
    "            sample = fo.Sample(filepath = os.path.join(img_path, image))\n",
    "            # If you want to see the original ground truth images, add them to the dataset.\n",
    "            # dataset.add_sample(sample)\n",
    "            sample[\"ground truth\"] = fo.Classification(label = class_name)\n",
    "        class_list.append(class_name)\n",
    "    \n",
    "    dataset.info[\"classes\"] = class_list\n",
    "    \n",
    "    # Save the dataset when loading it for the first time.\n",
    "    # dataset.save()\n",
    "    print('\\n')    \n",
    "\n",
    "    # Printing some info about the dataset.\n",
    "    print(dataset.media_type)\n",
    "    print(len(dataset))    \n",
    "    \n",
    "    return class_list, sample"
   ]
  },
  {
   "cell_type": "markdown",
   "metadata": {},
   "source": [
    "# Read class and score values and store them"
   ]
  },
  {
   "cell_type": "code",
   "execution_count": 5,
   "metadata": {},
   "outputs": [
    {
     "name": "stdout",
     "output_type": "stream",
     "text": [
      "    Class     Score\n",
      "0      22  0.998595\n",
      "1      20  0.999956\n",
      "2       8  0.999999\n",
      "3      20  0.413471\n",
      "4       8  0.999052\n",
      "5      20  0.999815\n",
      "6       8  0.999884\n",
      "7      20  0.999881\n",
      "8       0  0.551594\n",
      "9       0  0.804793\n",
      "10      2  0.996808\n",
      "11     22  0.987521\n",
      "12     20  0.993466\n",
      "13      2  0.999987\n",
      "14     20  0.817402\n",
      "15      2  0.999972\n",
      "16      0  0.689635\n"
     ]
    }
   ],
   "source": [
    "# Now inserting the class and score values into a dictionary.\n",
    "import pandas as pd\n",
    "df = pd.read_excel('Pred_Classes.xlsx')\n",
    "print(df)"
   ]
  },
  {
   "cell_type": "markdown",
   "metadata": {},
   "source": [
    "# Adding positive and negative samples to dataset"
   ]
  },
  {
   "cell_type": "code",
   "execution_count": 6,
   "metadata": {},
   "outputs": [
    {
     "name": "stdout",
     "output_type": "stream",
     "text": [
      "D:\\3_Sarosij\\Ongoing\\Research&Projects\\HPC\\Code\\New Plant Diseases Dataset(Augmented)\\train\\Apple___Apple_scab\n",
      "D:\\3_Sarosij\\Ongoing\\Research&Projects\\HPC\\Code\\New Plant Diseases Dataset(Augmented)\\train\\Apple___Black_rot\n",
      "D:\\3_Sarosij\\Ongoing\\Research&Projects\\HPC\\Code\\New Plant Diseases Dataset(Augmented)\\train\\Apple___Cedar_apple_rust\n",
      "D:\\3_Sarosij\\Ongoing\\Research&Projects\\HPC\\Code\\New Plant Diseases Dataset(Augmented)\\train\\Apple___healthy\n",
      "D:\\3_Sarosij\\Ongoing\\Research&Projects\\HPC\\Code\\New Plant Diseases Dataset(Augmented)\\train\\Cherry_(including_sour)___healthy\n",
      "D:\\3_Sarosij\\Ongoing\\Research&Projects\\HPC\\Code\\New Plant Diseases Dataset(Augmented)\\train\\Cherry_(including_sour)___Powdery_mildew\n",
      "D:\\3_Sarosij\\Ongoing\\Research&Projects\\HPC\\Code\\New Plant Diseases Dataset(Augmented)\\train\\Corn_(maize)___Cercospora_leaf_spot Gray_leaf_spot\n",
      "D:\\3_Sarosij\\Ongoing\\Research&Projects\\HPC\\Code\\New Plant Diseases Dataset(Augmented)\\train\\Corn_(maize)___Common_rust_\n",
      "D:\\3_Sarosij\\Ongoing\\Research&Projects\\HPC\\Code\\New Plant Diseases Dataset(Augmented)\\train\\Corn_(maize)___healthy\n",
      "D:\\3_Sarosij\\Ongoing\\Research&Projects\\HPC\\Code\\New Plant Diseases Dataset(Augmented)\\train\\Corn_(maize)___Northern_Leaf_Blight\n",
      "D:\\3_Sarosij\\Ongoing\\Research&Projects\\HPC\\Code\\New Plant Diseases Dataset(Augmented)\\train\\Grape___Black_rot\n",
      "D:\\3_Sarosij\\Ongoing\\Research&Projects\\HPC\\Code\\New Plant Diseases Dataset(Augmented)\\train\\Grape___Esca_(Black_Measles)\n",
      "D:\\3_Sarosij\\Ongoing\\Research&Projects\\HPC\\Code\\New Plant Diseases Dataset(Augmented)\\train\\Grape___healthy\n",
      "D:\\3_Sarosij\\Ongoing\\Research&Projects\\HPC\\Code\\New Plant Diseases Dataset(Augmented)\\train\\Grape___Leaf_blight_(Isariopsis_Leaf_Spot)\n",
      "D:\\3_Sarosij\\Ongoing\\Research&Projects\\HPC\\Code\\New Plant Diseases Dataset(Augmented)\\train\\Orange___Haunglongbing_(Citrus_greening)\n",
      "D:\\3_Sarosij\\Ongoing\\Research&Projects\\HPC\\Code\\New Plant Diseases Dataset(Augmented)\\train\\Peach___Bacterial_spot\n",
      "D:\\3_Sarosij\\Ongoing\\Research&Projects\\HPC\\Code\\New Plant Diseases Dataset(Augmented)\\train\\Peach___healthy\n",
      "D:\\3_Sarosij\\Ongoing\\Research&Projects\\HPC\\Code\\New Plant Diseases Dataset(Augmented)\\train\\Pepper,_bell___Bacterial_spot\n",
      "D:\\3_Sarosij\\Ongoing\\Research&Projects\\HPC\\Code\\New Plant Diseases Dataset(Augmented)\\train\\Pepper,_bell___healthy\n",
      "D:\\3_Sarosij\\Ongoing\\Research&Projects\\HPC\\Code\\New Plant Diseases Dataset(Augmented)\\train\\Potato___Early_blight\n",
      "D:\\3_Sarosij\\Ongoing\\Research&Projects\\HPC\\Code\\New Plant Diseases Dataset(Augmented)\\train\\Potato___healthy\n",
      "D:\\3_Sarosij\\Ongoing\\Research&Projects\\HPC\\Code\\New Plant Diseases Dataset(Augmented)\\train\\Potato___Late_blight\n",
      "D:\\3_Sarosij\\Ongoing\\Research&Projects\\HPC\\Code\\New Plant Diseases Dataset(Augmented)\\train\\Raspberry___healthy\n",
      "D:\\3_Sarosij\\Ongoing\\Research&Projects\\HPC\\Code\\New Plant Diseases Dataset(Augmented)\\train\\Soybean___healthy\n",
      "D:\\3_Sarosij\\Ongoing\\Research&Projects\\HPC\\Code\\New Plant Diseases Dataset(Augmented)\\train\\Squash___Powdery_mildew\n",
      "D:\\3_Sarosij\\Ongoing\\Research&Projects\\HPC\\Code\\New Plant Diseases Dataset(Augmented)\\train\\Strawberry___healthy\n",
      "D:\\3_Sarosij\\Ongoing\\Research&Projects\\HPC\\Code\\New Plant Diseases Dataset(Augmented)\\train\\Strawberry___Leaf_scorch\n",
      "\n",
      "\n",
      "image\n",
      "50168\n"
     ]
    }
   ],
   "source": [
    "import os\n",
    "class_list , sample = add_groundtruth()\n",
    "\n",
    "# Classify and store them now as either positive or negative class labels.\n",
    "pos_class = neg_class = []\n",
    "\n",
    "for index, row in df.iterrows():\n",
    "    c = fo.Classification(label = class_list[int(row['Class'])], confidence = row['Score'])\n",
    "    if row['Score'] > 0.99:\n",
    "        pos_class.append(c)\n",
    "        sample[\"positive labels\"] = c\n",
    "    else:\n",
    "        neg_class.append(c)\n",
    "        sample[\"negative labels\"] = c\n",
    "         \n",
    "# Add those samples to the dataset.(Add them only once otherwise there will be a same path conflict.)\n",
    "# dataset.add_sample(sample)"
   ]
  },
  {
   "cell_type": "markdown",
   "metadata": {},
   "source": [
    "# Launch the app"
   ]
  },
  {
   "cell_type": "code",
   "execution_count": null,
   "metadata": {
    "scrolled": true
   },
   "outputs": [],
   "source": [
    "session = fo.launch_app(dataset)"
   ]
  }
 ],
 "metadata": {
  "kernelspec": {
   "display_name": "FiftyOne",
   "language": "python",
   "name": "fifty_one"
  },
  "language_info": {
   "codemirror_mode": {
    "name": "ipython",
    "version": 3
   },
   "file_extension": ".py",
   "mimetype": "text/x-python",
   "name": "python",
   "nbconvert_exporter": "python",
   "pygments_lexer": "ipython3",
   "version": "3.7.9"
  }
 },
 "nbformat": 4,
 "nbformat_minor": 5
}
